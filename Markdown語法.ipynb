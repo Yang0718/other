{
 "cells": [
  {
   "cell_type": "markdown",
   "metadata": {},
   "source": [
    "# <center>Markdown\n",
    "[希臘字母、其他運算符號](http://jzqt.github.io/2015/06/30/Markdown中写数学公式/)"
   ]
  },
  {
   "cell_type": "markdown",
   "metadata": {},
   "source": [
    "## 方程式\n",
    "左右放錢字號：<br>\n",
    "$\\int_0^3 \\int_2^4 (xy+2x-y)\\,dx\\,dy$<br>\n",
    "如果用兩個錢字號表示該方程式獨立一行且置中：<br>\n",
    "$$\\int_0^3 \\int_2^4 (xy+2x-y)\\,dx\\,dy$$<br>\n",
    "***\n",
    "## 上下標\n",
    "若上下標的內容超過一個字，就用{}包起來\n",
    "$$x=a^n_{5y+2n}$$\n",
    "<br>\n",
    "兩邊都要上下標的話，用\\sideset\n",
    "$$\\sideset{^1_2}{^3_4}A$$\n",
    "\n",
    "## 大括號\n",
    "因為{}本身有其他功能，所以在使用大括號{}時為了避免搞混，通常會寫成\\lbrace \\rbrace來替代<br>\n",
    "$$f(x, y) = 100 * \\lbrace[(x + y) * 3] - 5\\rbrace$$\n",
    "\n",
    "## 分數\n",
    "\\frac{分母}{分子}：$\\frac{1}{3}$ <br>\n",
    "改用\\cfrac會讓數字不那麼擠：$\\cfrac{1}{3}$<br>\n",
    "***\n",
    "## 開根號\n",
    "\\sqrt[根號次數]{被開方數}\n",
    "$$\\sqrt[3]{X}$$<br>\n",
    "$$\\sqrt{5 - x}$$"
   ]
  },
  {
   "cell_type": "markdown",
   "metadata": {},
   "source": [
    "## 引用\n",
    ">這裡放要引用的內容<br>\n",
    "後面相鄰的行可以不用加>，一樣會變引用\n",
    "\n",
    "## 列表&排序\n",
    "這三種符號都可以：*,+,-\n",
    "1. 第一層\n",
    "    * 111\n",
    "    + 222\n",
    "    \n",
    "2. 第二層\n",
    "    - asdasd\n",
    "    * oijiji3\n",
    "\n",
    "## 刪除線\n",
    "用~~把字包住<br>\n",
    "\n",
    "~~這就是刪除線~~\n",
    "\n",
    "## 超連結\n",
    "打[要顯示的名字] (網址)<br>\n",
    "[Google](http://www.google.com/)\n",
    "\n",
    "## 程式碼\n",
    "在句子裡添加程式碼，例如`print`，用反引號來包住\n",
    "若要放多行程式碼，且讓程式碼變色，就要用三個反引號，並在第一行後面寫使用的語言：<br>\n",
    "```python\n",
    "x = symbols('x')\n",
    "y = symbols('y')\n",
    "```\n",
    "## 粗體＆斜體\n",
    "*HAHA*<br>\n",
    "**HAHA**"
   ]
  },
  {
   "cell_type": "markdown",
   "metadata": {},
   "source": [
    "## 表格\n",
    "用---來分隔表頭與下方內容<br>\n",
    ":--- 代表靠左<br>\n",
    ":--: 代表置中<br>\n",
    "---: 代表靠右<br>\n",
    "此處在打最右邊的錢字號時，要先加個\\，否則會變成方程式\n",
    "\n",
    "| Tables | Are | Cool |\n",
    "| ------- | :------: | -----:|\n",
    "| col 3 is | right-aligned | \\$1600 |\n",
    "| col 2 is | centered | \\$12 |\n",
    "| zebra stripes | are neat | \\$1 |"
   ]
  },
  {
   "cell_type": "markdown",
   "metadata": {},
   "source": [
    "# 插入圖片的方法\n",
    "先上傳到github，再點該圖片的download->右鍵->拷貝連結(如果是網路上的就直接複製連結即可)\n",
    "### 法一：markdown之引用<br>\n",
    "後面放的title要滑鼠移過去才會顯示<br>\n",
    "`![微積分](https://github.com/Yang0718/Images_for_markdown/raw/master/微積分符號.png \"calculus for markdown\")`<br>\n",
    "\n",
    "### 法二：html之語法，可以改圖片大小<br>\n",
    "指定圖片的大小百分比：width=\"40%\"<br>\n",
    "[更改擺放位置](https://gist.github.com/DavidWells/7d2e0e1bc78f4ac59a123ddf8b74932d)\n",
    "```\n",
    "<p align=\"center\">\n",
    "   <img src='https://github.com/Yang0718/markdown_notes/raw/master/微積分符號.png' width=\"20%\" height=\"20%\">\n",
    "</p>\n",
    "```\n",
    "\n",
    "<p align=\"center\">\n",
    "   <img src='https://github.com/Yang0718/markdown_notes/raw/master/微積分符號.png' width=\"20%\" height=\"20%\">\n",
    "</p>"
   ]
  }
 ],
 "metadata": {
  "kernelspec": {
   "display_name": "yang3.6",
   "language": "python",
   "name": "yang3.6"
  },
  "language_info": {
   "codemirror_mode": {
    "name": "ipython",
    "version": 3
   },
   "file_extension": ".py",
   "mimetype": "text/x-python",
   "name": "python",
   "nbconvert_exporter": "python",
   "pygments_lexer": "ipython3",
   "version": "3.6.4"
  }
 },
 "nbformat": 4,
 "nbformat_minor": 2
}
