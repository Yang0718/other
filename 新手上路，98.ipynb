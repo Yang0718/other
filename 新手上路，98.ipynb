{
 "cells": [
  {
   "cell_type": "markdown",
   "metadata": {},
   "source": [
    "<h1 align=\"center\">自學Python＆ML之Guideline</h1>"
   ]
  },
  {
   "cell_type": "markdown",
   "metadata": {},
   "source": [
    "# Step 0\n",
    "* 首先安裝必備的[Anaconda](https://www.anaconda.com/download/#macos)，選擇版本3.X的python，不要選2.X。**安裝時記得勾選將Anaconda添加至環境變量**\n",
    "* Anaconda裡面包含許多常用套件，且可使用圖形化介面anaconda navigator來做套件管理\n",
    "* 之後要安裝新的套件時，搜尋conda版的安裝方式，[範例](https://anaconda.org/anaconda/seaborn)\n",
    "* **強烈建議創建新的conda環境，在cmd輸入：conda create --name 自訂名稱**\n",
    "* 建議使用Jupyter notebook來撰寫程式，十分簡潔好用且有許多插件可以安裝。"
   ]
  },
  {
   "cell_type": "markdown",
   "metadata": {},
   "source": [
    "# Python\n",
    "## 語法\n",
    "* [10分鐘入門](http://tech-marsw.logdown.com/blog/2014/09/03/getting-started-with-python-in-ten-minute)：簡易入門\n",
    "* [codecademy](https://www.codecademy.com/learn/learn-python)：屬互動式介面，可即時練習，從最基礎的語法開始教。\n",
    "* [莫凡Python](https://morvanzhou.github.io/tutorials/python-basic/basic/)：\n",
    "目前看到最優的中文Python教學網站，遇到問題時可以往下拉看一下討論區，可能會看到類似的問題與解法。熟悉此網站的話已足以應付大多數的基本問題\n",
    "* [電子書：Pyton Data Science Essentials](https://drive.google.com/file/d/0ByWScuX6orvdZExQWUVCUlRxQkE/view)：很閒的時候可以看\n",
    "\n",
    "## 套件\n",
    "Python是擁有最多最完善機器學習開源函式庫的程式語言。\n",
    "### 1. 數據處理：\n",
    "* Numpy：能做快速的數學運算\n",
    "* Pandas：將數據轉成dataframe格式，能對dataframe做各種羞羞的事，例如增減欄位、計算平均、排序、group by等操作\n",
    "    - Numpy與Pandas可以看[莫凡Python](https://morvanzhou.github.io/tutorials/data-manipulation/np-pd/)學，內容非常夠用。\n",
    "    - [Numpy與Pandas的效能優化](https://github.com/mm-mansour/Fast-Pandas)：強烈推薦看這篇，避免在面對大量數據時效能不佳，導致時間拉長。\n",
    "* [Matplotlib](https://morvanzhou.github.io/tutorials/data-manipulation/plt/)：繪圖神器，通常會搭配pandas使用\n",
    "\n",
    "### 2. 機器學習：\n",
    "* [Scikit-Learn](https://morvanzhou.github.io/tutorials/machine-learning/sklearn/)：強大的機器學習套件，除了神經網路外幾乎所有模型都可以做到，例如決策樹、SVM、隨機森林、KNN等。\n",
    "* [Scipy](https://www.scipy.org/install.html)：演算法庫和數學工具包，包含的模組有最佳化、線性代數、積分、插值、特殊函式、快速傅立葉變換、訊號處理和圖像處理、常微分方程求解和其他科學與工程中常用的計算。\n",
    "* [LGBM](https://github.com/Microsoft/LightGBM)、[XGBoost](https://medium.com/@yehjames/資料分析-機器學習-第5-2講-kaggle機器學習競賽神器xgboost介紹-1c8f55cffcc)：人稱Kaggle神器，能有效處理較稀疏的數據(通常若數據太稀疏，神經網路的表現會很差)。\n",
    "\n",
    "### 3. 神經網路：\n",
    "下面幾種框架，皆可看莫凡Python學習。當遇到coding問題時，不要馬上哭著跑去找學長姐，記得先善用Google與Stack overflow，把error message貼上去搜尋。<br>\n",
    "* Tensorflow：最多人使用的深度學習框架，能彈性調整網路架構，但在debug時較難找出問題。[Tensorflow社群](http://www.tensorflownews.com)\n",
    "* Keras：基於Tensorflow的高階框架，語法比tensorflow簡易許多，但相對地彈性稍差。緯創資通有提供一個很不錯的[實戰練習](https://github.com/erhwenkuo/deep-learning-with-keras-notebooks)可以看。\n",
    "* Pytorch：也是十分多人使用的框架，效能表現優異，可見此[與tensorflow之比較](https://www.leiphone.com/news/201708/Npflmddi8OGbnJHi.html)\n",
    "\n",
    "還有其他框架如Theano、Caffe、Chainer等，我沒有用過，大家可以自己去看看。\n"
   ]
  },
  {
   "cell_type": "markdown",
   "metadata": {},
   "source": [
    "# Machine learning & Deep learning\n",
    "機器學習是實現人工智慧的方法之一，其中若使用多層神經網路來訓練，即是深度學習之範疇<br>\n",
    "* [機器學習會用到的線性代數](https://www.youtube.com/playlist?list=PLPq6UM7IeBiHepqeGmaOGdDDV85CowG-7)：整理機器學習裡會用到的線性代數內容，最好要看。\n",
    "* [特徵工程](https://read01.com/oxJ4E3.html#.Wr8nrmbW4xc)：實際在處理資料時一定會需要做特徵工程的處理。\n",
    "* [林軒田](https://www.youtube.com/watch?v=nQvpFSMPhr0&list=PLXVfgk9fNX2I7tB6oIINGBmW50rrmFTqf)：台大資工教授，人稱田神，是台灣機器學習界最粗的大腿之一。教程內容較多數學但很扎實。\n",
    "* [李宏毅](https://www.youtube.com/watch?v=CXgbekl66jc&list=PLJV_el3uVTsPy9oCRY30oBPNLCo89yu49)：台大電機教授，教學活潑生動，講得也非常清楚，十分推薦！\n",
    "* [李宏毅與陳縕儂合開的深度學習課](https://www.csie.ntu.edu.tw/~yvchen/f106-adl/syllabus)：有影片與投影片可以看。"
   ]
  },
  {
   "cell_type": "markdown",
   "metadata": {},
   "source": [
    "# 實戰\n",
    "* [UCI](http://archive.ics.uci.edu/ml/datasets.html)：公開數據集網站，可以下載各種有趣的資料來練習。\n",
    "* [Kaggle](https://www.kaggle.com)：機器學習聖殿，在上面能找到各種主題的數據科學競賽、練習。重點是可以觀摩其他高手是怎麼寫code、怎麼設計模型架構的。可看看[這篇](https://www.jianshu.com/p/32def2294ae6)文章，對kaggle競賽實戰的步驟有一點基礎概念。\n"
   ]
  }
 ],
 "metadata": {
  "kernelspec": {
   "display_name": "yang3.6",
   "language": "python",
   "name": "yang3.6"
  },
  "language_info": {
   "codemirror_mode": {
    "name": "ipython",
    "version": 3
   },
   "file_extension": ".py",
   "mimetype": "text/x-python",
   "name": "python",
   "nbconvert_exporter": "python",
   "pygments_lexer": "ipython3",
   "version": "3.6.4"
  }
 },
 "nbformat": 4,
 "nbformat_minor": 2
}
